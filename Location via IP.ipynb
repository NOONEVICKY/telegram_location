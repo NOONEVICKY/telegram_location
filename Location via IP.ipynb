{
 "cells": [
  {
   "cell_type": "markdown",
   "id": "d18e68cc",
   "metadata": {},
   "source": [
    "# Caller location via IP Address"
   ]
  },
  {
   "cell_type": "code",
   "execution_count": 2,
   "id": "313ab7fd",
   "metadata": {},
   "outputs": [
    {
     "name": "stdout",
     "output_type": "stream",
     "text": [
      "Do you consent to share your location? (yes/no): yes\n",
      "Your current location is: 11.8768 79.8107\n",
      "Puducherry, Puducherry Taluk, Puducherry District, Puducherry, 605001, India\n"
     ]
    }
   ],
   "source": [
    "# Import the necessary libraries\n",
    "import geocoder\n",
    "\n",
    "# Obtain the user's consent\n",
    "consent = input(\"Do you consent to share your location? (yes/no): \")\n",
    "if consent.lower() == \"yes\":\n",
    "    # Retrieve the user's location data\n",
    "    g = geocoder.ip('162.216.141.2')#enter the ip address obtained\n",
    "    latitude = g.latlng[0]\n",
    "    longitude = g.latlng[1]\n",
    "    print(\"Your current location is:\", latitude, longitude)\n",
    "    # Send the location data to the receiver\n",
    "    # Use a messaging or video chat API to send the location data to the receiver\n",
    "else:\n",
    "    print(\"Location sharing denied.\")\n",
    "# Import the necessary libraries\n",
    "from geopy.geocoders import Nominatim\n",
    "\n",
    "# Enter the longitude and latitude coordinates\n",
    "latitude = latitude\n",
    "longitude = longitude\n",
    "\n",
    "# Create a geolocator object and retrieve the user's location\n",
    "geolocator = Nominatim(user_agent=\"my_location\")\n",
    "location = geolocator.reverse(f\"{latitude}, {longitude}\")\n",
    "\n",
    "# Print the user's location\n",
    "print(location.address)\n"
   ]
  },
  {
   "cell_type": "markdown",
   "id": "7031e204",
   "metadata": {},
   "source": [
    "# Reciver location Via IP Address"
   ]
  },
  {
   "cell_type": "code",
   "execution_count": 3,
   "id": "6d1e55ef",
   "metadata": {},
   "outputs": [
    {
     "name": "stdout",
     "output_type": "stream",
     "text": [
      "Do you consent to share your location? (yes/no): yes\n",
      "Your current location is: 11.8768 79.8107\n",
      "Puducherry, Puducherry Taluk, Puducherry District, Puducherry, 605001, India\n"
     ]
    }
   ],
   "source": [
    "# Import the necessary libraries\n",
    "import geocoder\n",
    "\n",
    "# Obtain the user's consent\n",
    "consent = input(\"Do you consent to share your location? (yes/no): \")\n",
    "if consent.lower() == \"yes\":\n",
    "    # Retrieve the user's location data\n",
    "    g = geocoder.ip('me')#this will retrive the current user location\n",
    "    latitude = g.latlng[0]\n",
    "    longitude = g.latlng[1]\n",
    "    print(\"Your current location is:\", latitude, longitude)\n",
    "    # Send the location data to the receiver\n",
    "    # Use a messaging or video chat API to send the location data to the receiver\n",
    "else:\n",
    "    print(\"Location sharing denied.\")\n",
    "# Import the necessary libraries\n",
    "from geopy.geocoders import Nominatim\n",
    "\n",
    "# Enter the longitude and latitude coordinates\n",
    "latitude = latitude\n",
    "longitude = longitude\n",
    "\n",
    "# Create a geolocator object and retrieve the user's location\n",
    "geolocator = Nominatim(user_agent=\"my_location\")\n",
    "location = geolocator.reverse(f\"{latitude}, {longitude}\")\n",
    "\n",
    "# Print the user's location\n",
    "print(location.address)\n"
   ]
  },
  {
   "cell_type": "code",
   "execution_count": null,
   "id": "f49bd123",
   "metadata": {},
   "outputs": [],
   "source": []
  }
 ],
 "metadata": {
  "kernelspec": {
   "display_name": "Python 3 (ipykernel)",
   "language": "python",
   "name": "python3"
  },
  "language_info": {
   "codemirror_mode": {
    "name": "ipython",
    "version": 3
   },
   "file_extension": ".py",
   "mimetype": "text/x-python",
   "name": "python",
   "nbconvert_exporter": "python",
   "pygments_lexer": "ipython3",
   "version": "3.10.9"
  }
 },
 "nbformat": 4,
 "nbformat_minor": 5
}
