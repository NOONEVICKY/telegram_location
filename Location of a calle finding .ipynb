{
 "cells": [
  {
   "cell_type": "markdown",
   "id": "01d6fe4a",
   "metadata": {},
   "source": [
    "# Callee Location"
   ]
  },
  {
   "cell_type": "code",
   "execution_count": null,
   "id": "94f1ec46",
   "metadata": {},
   "outputs": [],
   "source": [
    "from telethon import TelegramClient, sync\n",
    "from telethon.tl.functions.account import GetAuthorizationsRequest\n",
    "\n",
    "# Set up a new Telegram client instance\n",
    "client = TelegramClient('sen_ne_123352133993226', '28840942', '038305e093c7efd9fed3e13b44194686')#create a section randomly\n",
    "\n",
    "# Connect to the Telegram client using the provided phone number and password\n",
    "client.start('+919486659224', 'sharandon@23')#enter callee phone number and password\n",
    "\n",
    "# Get the user ID of the person you want to obtain the IP address for\n",
    "user_id = 'SPIDEY1606' #here you have to enter the callee's telegram username\n",
    "\n",
    "# Get a list of all active sessions for the user\n",
    "\n",
    "sessions = client(GetAuthorizationsRequest())\n",
    "\n",
    "# Get the IP address for each active session\n",
    "for session in sessions.authorizations:\n",
    "    if session.current:\n",
    "        ip_address = session.ip\n",
    "        print(f\"IP address for user {user_id}: {ip_address}\")\n",
    "\n",
    "\n",
    "# Import the necessary libraries\n",
    "import geocoder\n",
    "\n",
    "# Obtain the user's consent\n",
    "consent = input(\"Do you consent to share your location? (yes/no): \")\n",
    "if consent.lower() == \"yes\":\n",
    "    # Retrieve the user's location data\n",
    "    g = geocoder.ip(ip_address)#enter the ip address obtained\n",
    "    print(g)\n",
    "    latitude = g.latlng[0]\n",
    "    longitude = g.latlng[1]\n",
    "    print(\"Your current location is:\", latitude, longitude)\n",
    "    # Send the location data to the receiver\n",
    "    # Use a messaging or video chat API to send the location data to the receiver\n",
    "else:\n",
    "    print(\"Location sharing denied.\")\n",
    "# Import the necessary libraries\n",
    "from geopy.geocoders import Nominatim\n",
    "\n",
    "# Enter the longitude and latitude coordinates\n",
    "latitude = latitude\n",
    "longitude = longitude\n",
    "\n",
    "# Create a geolocator object and retrieve the user's location\n",
    "geolocator = Nominatim(user_agent=\"my_location\")\n",
    "location = geolocator.reverse(f\"{latitude}, {longitude}\")\n",
    "\n",
    "# Print the user's location\n",
    "print(location.address)"
   ]
  },
  {
   "cell_type": "markdown",
   "id": "db8523c9",
   "metadata": {},
   "source": [
    "# Reciver Location"
   ]
  },
  {
   "cell_type": "code",
   "execution_count": 1,
   "id": "93c08b76",
   "metadata": {},
   "outputs": [
    {
     "name": "stdout",
     "output_type": "stream",
     "text": [
      "Do you consent to share your location? (yes/no): yes\n",
      "Your current location is: 13.1096 80.2146\n",
      "2nd Main Road, CMWSSB Division 96, Ward 96, Zone 8 Anna Nagar, Chennai, Chennai District, Tamil Nadu, 600001, India\n"
     ]
    }
   ],
   "source": [
    "# Import the necessary libraries\n",
    "import geocoder\n",
    "\n",
    "# Obtain the user's consent\n",
    "consent = input(\"Do you consent to share your location? (yes/no): \")\n",
    "if consent.lower() == \"yes\":\n",
    "    # Retrieve the user's location data\n",
    "    g = geocoder.ip('me')#this will retrive the current user location\n",
    "    latitude = g.latlng[0]\n",
    "    longitude = g.latlng[1]\n",
    "    print(\"Your current location is:\", latitude, longitude)\n",
    "    # Send the location data to the receiver\n",
    "    # Use a messaging or video chat API to send the location data to the receiver\n",
    "else:\n",
    "    print(\"Location sharing denied.\")\n",
    "# Import the necessary libraries\n",
    "from geopy.geocoders import Nominatim\n",
    "\n",
    "# Enter the longitude and latitude coordinates\n",
    "latitude = latitude\n",
    "longitude = longitude\n",
    "\n",
    "# Create a geolocator object and retrieve the user's location\n",
    "geolocator = Nominatim(user_agent=\"my_location\")\n",
    "location = geolocator.reverse(f\"{latitude}, {longitude}\")\n",
    "\n",
    "# Print the user's location\n",
    "print(location.address)\n"
   ]
  },
  {
   "cell_type": "code",
   "execution_count": null,
   "id": "8a7d90c2",
   "metadata": {},
   "outputs": [],
   "source": []
  }
 ],
 "metadata": {
  "kernelspec": {
   "display_name": "Python 3 (ipykernel)",
   "language": "python",
   "name": "python3"
  },
  "language_info": {
   "codemirror_mode": {
    "name": "ipython",
    "version": 3
   },
   "file_extension": ".py",
   "mimetype": "text/x-python",
   "name": "python",
   "nbconvert_exporter": "python",
   "pygments_lexer": "ipython3",
   "version": "3.10.9"
  }
 },
 "nbformat": 4,
 "nbformat_minor": 5
}
